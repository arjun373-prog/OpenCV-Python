{
 "cells": [
  {
   "cell_type": "code",
   "execution_count": 1,
   "id": "5f7a0158",
   "metadata": {},
   "outputs": [],
   "source": [
    "import cv2"
   ]
  },
  {
   "cell_type": "code",
   "execution_count": 15,
   "id": "492305e3",
   "metadata": {},
   "outputs": [],
   "source": [
    "img=cv2.imread(\"opencv-4.x/opencv-4.x/samples/data/lena.jpg\",-1) #enables to read images(1-color,0-grey scale,-1-unchanged)"
   ]
  },
  {
   "cell_type": "code",
   "execution_count": 9,
   "id": "77906633",
   "metadata": {},
   "outputs": [
    {
     "name": "stdout",
     "output_type": "stream",
     "text": [
      "[[163 162 161 ... 170 154 130]\n",
      " [162 162 162 ... 173 155 126]\n",
      " [162 162 163 ... 170 155 128]\n",
      " ...\n",
      " [ 43  42  51 ... 103 101  99]\n",
      " [ 41  42  55 ... 103 105 106]\n",
      " [ 42  44  57 ... 102 106 109]]\n"
     ]
    }
   ],
   "source": [
    "print(img)"
   ]
  },
  {
   "cell_type": "code",
   "execution_count": 16,
   "id": "2045ccf9",
   "metadata": {},
   "outputs": [],
   "source": [
    "cv2.imshow(\"image\",img)\n",
    "cv2.waitKey(0)\n",
    "cv2.destroyAllWindows()"
   ]
  },
  {
   "cell_type": "code",
   "execution_count": 17,
   "id": "ec306ee0",
   "metadata": {},
   "outputs": [
    {
     "data": {
      "text/plain": [
       "True"
      ]
     },
     "execution_count": 17,
     "metadata": {},
     "output_type": "execute_result"
    }
   ],
   "source": [
    "cv2.imwrite(\"lena_reno.png\",img)"
   ]
  },
  {
   "cell_type": "code",
   "execution_count": null,
   "id": "cab1fd81",
   "metadata": {},
   "outputs": [],
   "source": []
  }
 ],
 "metadata": {
  "kernelspec": {
   "display_name": "Python 3 (ipykernel)",
   "language": "python",
   "name": "python3"
  },
  "language_info": {
   "codemirror_mode": {
    "name": "ipython",
    "version": 3
   },
   "file_extension": ".py",
   "mimetype": "text/x-python",
   "name": "python",
   "nbconvert_exporter": "python",
   "pygments_lexer": "ipython3",
   "version": "3.9.7"
  }
 },
 "nbformat": 4,
 "nbformat_minor": 5
}
